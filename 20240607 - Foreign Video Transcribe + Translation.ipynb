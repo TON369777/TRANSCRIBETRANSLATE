{
 "cells": [
  {
   "cell_type": "markdown",
   "id": "c71e1c97",
   "metadata": {},
   "source": [
    "# LIBRARIES TO BE INSTALLED"
   ]
  },
  {
   "cell_type": "markdown",
   "id": "8080d724",
   "metadata": {},
   "source": [
    "#### Unhash the below cell to run if libraries have not been installed or running on Google Colab"
   ]
  },
  {
   "cell_type": "code",
   "execution_count": null,
   "id": "2505d1d0",
   "metadata": {},
   "outputs": [],
   "source": [
    "# !pip install git+https://github.com/openai/whisper.git\n",
    "# !sudo apt update && sudo apt install ffmpeg\n",
    "# pip install moviepy"
   ]
  },
  {
   "cell_type": "markdown",
   "id": "773d4a39",
   "metadata": {},
   "source": [
    "# EXTRACTION OF AUDIO FROM VIDEO"
   ]
  },
  {
   "cell_type": "code",
   "execution_count": null,
   "id": "9b6d5fed",
   "metadata": {},
   "outputs": [],
   "source": [
    "from moviepy.editor import VideoFileClip"
   ]
  },
  {
   "cell_type": "code",
   "execution_count": null,
   "id": "51c74aa8",
   "metadata": {},
   "outputs": [],
   "source": [
    "# Paths to the video and output files\n",
    "video_file = \"BANDITS32.mp4\"  # Replace with name of video\n",
    "audio_file = \"BANDITS32.mp3\"  # Replace with the desired output path\n",
    "\n",
    "# Load the video file\n",
    "video = VideoFileClip(video_file)\n",
    "\n",
    "# Extract the audio\n",
    "audio = video.audio\n",
    "\n",
    "# Save the audio as an MP3 file\n",
    "audio.write_audiofile(audio_file, codec='mp3')\n",
    "\n",
    "# Close the video and audio clips\n",
    "video.close()\n",
    "audio.close()"
   ]
  },
  {
   "cell_type": "markdown",
   "id": "eed9fc97",
   "metadata": {},
   "source": [
    "# TRANSCRIBE AUDIO, TRANSLATE AND OUTPUT a SRT FILE"
   ]
  },
  {
   "cell_type": "markdown",
   "id": "259919bf",
   "metadata": {},
   "source": [
    "#### !whisper -h for possible commands. "
   ]
  },
  {
   "cell_type": "code",
   "execution_count": null,
   "id": "4618e7e8",
   "metadata": {},
   "outputs": [],
   "source": [
    "!whisper audio_file --model medium --language zh --task translate\n",
    "# Model chosen is the medium model, known language is Chinese (zh) and added task for model to translate"
   ]
  },
  {
   "cell_type": "code",
   "execution_count": null,
   "id": "55ea8e14",
   "metadata": {},
   "outputs": [],
   "source": []
  },
  {
   "cell_type": "code",
   "execution_count": null,
   "id": "db448dcb",
   "metadata": {},
   "outputs": [],
   "source": []
  }
 ],
 "metadata": {
  "kernelspec": {
   "display_name": "Python 3 (ipykernel)",
   "language": "python",
   "name": "python3"
  },
  "language_info": {
   "codemirror_mode": {
    "name": "ipython",
    "version": 3
   },
   "file_extension": ".py",
   "mimetype": "text/x-python",
   "name": "python",
   "nbconvert_exporter": "python",
   "pygments_lexer": "ipython3",
   "version": "3.11.5"
  }
 },
 "nbformat": 4,
 "nbformat_minor": 5
}
